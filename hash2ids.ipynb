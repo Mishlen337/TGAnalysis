{
 "cells": [
  {
   "cell_type": "code",
   "execution_count": 1,
   "metadata": {},
   "outputs": [],
   "source": [
    "import json\n",
    "from pathlib import Path\n",
    "\n",
    "filename = Path(\"./forwards_posts_1kk.json\")\n",
    "with open(filename) as f:\n",
    "    data = json.load(f)"
   ]
  },
  {
   "cell_type": "code",
   "execution_count": 3,
   "metadata": {},
   "outputs": [
    {
     "data": {
      "text/plain": [
       "929891"
      ]
     },
     "execution_count": 3,
     "metadata": {},
     "output_type": "execute_result"
    }
   ],
   "source": [
    "len(data)"
   ]
  },
  {
   "cell_type": "markdown",
   "metadata": {},
   "source": [
    "Posts counts"
   ]
  },
  {
   "cell_type": "code",
   "execution_count": 4,
   "metadata": {},
   "outputs": [
    {
     "data": {
      "text/plain": [
       "25917123"
      ]
     },
     "execution_count": 4,
     "metadata": {},
     "output_type": "execute_result"
    }
   ],
   "source": [
    "sum([len(d[\"posts\"]) for d in data])"
   ]
  },
  {
   "cell_type": "markdown",
   "metadata": {},
   "source": [
    "\"to\" channels count"
   ]
  },
  {
   "cell_type": "code",
   "execution_count": 5,
   "metadata": {},
   "outputs": [
    {
     "data": {
      "text/plain": [
       "29742"
      ]
     },
     "execution_count": 5,
     "metadata": {},
     "output_type": "execute_result"
    }
   ],
   "source": [
    "len(set(d[\"to\"] for d in data))"
   ]
  },
  {
   "cell_type": "markdown",
   "metadata": {},
   "source": [
    "\"from\" channels count"
   ]
  },
  {
   "cell_type": "code",
   "execution_count": 6,
   "metadata": {},
   "outputs": [
    {
     "data": {
      "text/plain": [
       "254515"
      ]
     },
     "execution_count": 6,
     "metadata": {},
     "output_type": "execute_result"
    }
   ],
   "source": [
    "len(set(d[\"from\"] for d in data))"
   ]
  },
  {
   "cell_type": "markdown",
   "metadata": {},
   "source": [
    "channels count"
   ]
  },
  {
   "cell_type": "code",
   "execution_count": 7,
   "metadata": {},
   "outputs": [
    {
     "data": {
      "text/plain": [
       "278500"
      ]
     },
     "execution_count": 7,
     "metadata": {},
     "output_type": "execute_result"
    }
   ],
   "source": [
    "len(set(d[\"from\"] for d in data).union(set(d[\"to\"] for d in data)))"
   ]
  },
  {
   "cell_type": "markdown",
   "metadata": {},
   "source": [
    "transform hash to ids"
   ]
  },
  {
   "cell_type": "code",
   "execution_count": 8,
   "metadata": {},
   "outputs": [],
   "source": [
    "channel2num = {}\n",
    "\n",
    "for i, node in enumerate(list(set(d[\"from\"] for d in data).union(set(d[\"to\"] for d in data)))):\n",
    "    channel2num[node] = i"
   ]
  },
  {
   "cell_type": "code",
   "execution_count": 9,
   "metadata": {},
   "outputs": [],
   "source": [
    "with open(\"channel2num_1kk.json\", 'w') as f:\n",
    "    json.dump(channel2num, f)"
   ]
  },
  {
   "cell_type": "code",
   "execution_count": 10,
   "metadata": {},
   "outputs": [
    {
     "data": {
      "text/plain": [
       "{'to': '608ed868fd0617777056715b2639587d',\n",
       " 'from': '1321308560b4f2ed7ca44cf74168fbc4',\n",
       " 'posts': [{'post_id': 585, 'date': '2023-01-20T18:22:51', 'views': 700},\n",
       "  {'post_id': 393, 'date': '2022-09-27T16:15:17', 'views': 307},\n",
       "  {'post_id': 954, 'date': '2024-04-08T17:23:13', 'views': 1},\n",
       "  {'post_id': 955, 'date': '2024-04-08T17:23:13', 'views': 1},\n",
       "  {'post_id': 961, 'date': '2024-04-10T18:13:26', 'views': 1},\n",
       "  {'post_id': 1273, 'date': '2024-08-31T13:07:09', 'views': 1},\n",
       "  {'post_id': 1274, 'date': '2024-08-31T13:07:09', 'views': 1},\n",
       "  {'post_id': 1302, 'date': '2024-09-07T10:35:54', 'views': 1},\n",
       "  {'post_id': 1432, 'date': '2024-10-30T20:33:39', 'views': 1}]}"
      ]
     },
     "execution_count": 10,
     "metadata": {},
     "output_type": "execute_result"
    }
   ],
   "source": [
    "data[10]"
   ]
  },
  {
   "cell_type": "markdown",
   "metadata": {},
   "source": [
    "transform forwarding posts"
   ]
  },
  {
   "cell_type": "code",
   "execution_count": 11,
   "metadata": {},
   "outputs": [],
   "source": [
    "data_num = [{\"from\": channel2num[d[\"from\"]], \"to\": channel2num[d[\"to\"]], \"posts\": d[\"posts\"]} for d in data]"
   ]
  },
  {
   "cell_type": "code",
   "execution_count": 12,
   "metadata": {},
   "outputs": [
    {
     "data": {
      "text/plain": [
       "{'from': 4715,\n",
       " 'to': 182639,\n",
       " 'posts': [{'post_id': 585, 'date': '2023-01-20T18:22:51', 'views': 700},\n",
       "  {'post_id': 393, 'date': '2022-09-27T16:15:17', 'views': 307},\n",
       "  {'post_id': 954, 'date': '2024-04-08T17:23:13', 'views': 1},\n",
       "  {'post_id': 955, 'date': '2024-04-08T17:23:13', 'views': 1},\n",
       "  {'post_id': 961, 'date': '2024-04-10T18:13:26', 'views': 1},\n",
       "  {'post_id': 1273, 'date': '2024-08-31T13:07:09', 'views': 1},\n",
       "  {'post_id': 1274, 'date': '2024-08-31T13:07:09', 'views': 1},\n",
       "  {'post_id': 1302, 'date': '2024-09-07T10:35:54', 'views': 1},\n",
       "  {'post_id': 1432, 'date': '2024-10-30T20:33:39', 'views': 1}]}"
      ]
     },
     "execution_count": 12,
     "metadata": {},
     "output_type": "execute_result"
    }
   ],
   "source": [
    "data_num[10]"
   ]
  },
  {
   "cell_type": "code",
   "execution_count": 13,
   "metadata": {},
   "outputs": [],
   "source": [
    "with open(\"ids_forwards_posts_1kk.json\", \"w\") as f:\n",
    "    json.dump(data_num, f)"
   ]
  },
  {
   "cell_type": "code",
   "execution_count": null,
   "metadata": {},
   "outputs": [],
   "source": []
  }
 ],
 "metadata": {
  "kernelspec": {
   "display_name": "ml-apple",
   "language": "python",
   "name": "python3"
  },
  "language_info": {
   "codemirror_mode": {
    "name": "ipython",
    "version": 3
   },
   "file_extension": ".py",
   "mimetype": "text/x-python",
   "name": "python",
   "nbconvert_exporter": "python",
   "pygments_lexer": "ipython3",
   "version": "3.13.0"
  }
 },
 "nbformat": 4,
 "nbformat_minor": 2
}
